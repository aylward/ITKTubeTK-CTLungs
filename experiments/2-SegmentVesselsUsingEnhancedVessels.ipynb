{
 "cells": [
  {
   "cell_type": "code",
   "execution_count": 1,
   "metadata": {},
   "outputs": [],
   "source": [
    "import itk\n",
    "from itk import TubeTK as tube\n",
    "\n",
    "import numpy as np"
   ]
  },
  {
   "cell_type": "code",
   "execution_count": 2,
   "metadata": {},
   "outputs": [],
   "source": [
    "InputBaseName = \"../data/CT/CT\"\n",
    "OutputBaseName = \"results/CT-Lungs\"\n",
    "\n",
    "InputFilename = OutputBaseName+\".mha\"\n",
    "\n",
    "ImageType = itk.Image[itk.F, 3]\n",
    "im1Iso = itk.imread(OutputBaseName+\"-VesselsEnhanced.mha\")\n",
    "im1Enh = itk.imread(OutputBaseName+\"-VesselsEnhanced-Masked.mha\")\n",
    "\n",
    "spacing = im1Iso.GetSpacing()[0]"
   ]
  },
  {
   "cell_type": "code",
   "execution_count": 3,
   "metadata": {},
   "outputs": [
    {
     "name": "stderr",
     "output_type": "stream",
     "text": [
      "itkImageF4 not loaded from module TubeTK because of exception:\n",
      " module 'itk.TubeTKPython' has no attribute 'itkImageF4'\n",
      "vectoritkImageF4 not loaded from module TubeTK because of exception:\n",
      " module 'itk.TubeTKPython' has no attribute 'vectoritkImageF4'\n"
     ]
    }
   ],
   "source": [
    "imMath = tube.ImageMath.New(im1Enh)\n",
    "imMath.MedianFilter(1)\n",
    "imMath.Threshold(0.000001, 1, 1, 0)\n",
    "im1VessMask = imMath.GetOutputShort()\n",
    "\n",
    "ccSeg = tube.SegmentConnectedComponents.New(im1VessMask)\n",
    "ccSeg.SetMinimumVolume(100)\n",
    "ccSeg.Update()\n",
    "im1VessMask = ccSeg.GetOutput()\n",
    "\n",
    "itk.imwrite(im1VessMask,OutputBaseName+\"-VesselsInitialMask.mha\")\n",
    "im1VessMask = itk.imread(OutputBaseName+\"-VesselsInitialMask.mha\", itk.F)"
   ]
  },
  {
   "cell_type": "code",
   "execution_count": 4,
   "metadata": {},
   "outputs": [],
   "source": [
    "imMath.SetInput(im1Enh)\n",
    "imMath.ReplaceValuesOutsideMaskRange(im1VessMask,1,99999,0)\n",
    "im1Seeds = imMath.GetOutput()\n",
    "itk.imwrite(im1Seeds,OutputBaseName+\"-VesselSeeds.mha\")"
   ]
  },
  {
   "cell_type": "code",
   "execution_count": 5,
   "metadata": {},
   "outputs": [],
   "source": [
    "imMath.SetInput(im1VessMask)\n",
    "imMath.Threshold(0,0,1,0)\n",
    "im1VessMaskInv = imMath.GetOutput()\n",
    "\n",
    "distFilter = itk.DanielssonDistanceMapImageFilter.New(im1VessMaskInv)\n",
    "distFilter.Update()\n",
    "dist = distFilter.GetOutput()\n",
    "\n",
    "imMath.SetInput(dist)\n",
    "imMath.Blur(0.4)\n",
    "tmp = imMath.GetOutput()\n",
    "imMath.ReplaceValuesOutsideMaskRange(tmp, 0.1, 10, 0)\n",
    "im1SeedsRadius = imMath.GetOutput()\n",
    "\n",
    "itk.imwrite(im1SeedsRadius, OutputBaseName+\"-VesselSeedsRadius.mha\")"
   ]
  },
  {
   "cell_type": "code",
   "execution_count": 6,
   "metadata": {
    "scrolled": true
   },
   "outputs": [],
   "source": [
    "imMath.SetInput(im1Iso)\n",
    "imMath.ReplaceValuesOutsideMaskRange(im1VessMask, 1, 99999, 0)\n",
    "imMath.Blur(spacing)\n",
    "im1Input = imMath.GetOutput()\n",
    "\n",
    "itk.imwrite(im1Input,OutputBaseName+\"-VesselInput.mha\")"
   ]
  },
  {
   "cell_type": "code",
   "execution_count": 7,
   "metadata": {},
   "outputs": [],
   "source": [
    "numSeeds = 300\n",
    "\n",
    "vSeg = tube.SegmentTubes.New(Input=im1Input)\n",
    "#vSeg.SetVerbose(True)\n",
    "vSeg.SetMinCurvature(0.0001)\n",
    "vSeg.SetMinRoundness(0.1)\n",
    "vSeg.SetMinRidgeness(0.75)\n",
    "vSeg.SetMinLevelness(0.001)\n",
    "vSeg.SetRadiusInObjectSpace( spacing )\n",
    "vSeg.SetBorderInIndexSpace(3)\n",
    "vSeg.SetSeedMask( im1Seeds )\n",
    "vSeg.SetSeedRadiusMask( im1SeedsRadius )\n",
    "vSeg.SetOptimizeRadius(True)\n",
    "vSeg.SetSeedMaskMaximumNumberOfPoints(numSeeds)\n",
    "vSeg.SetUseSeedMaskAsProbabilities(True)\n",
    "vSeg.SetSeedExtractionMinimumProbability(0.5)\n",
    "vSeg.ProcessSeeds()"
   ]
  },
  {
   "cell_type": "code",
   "execution_count": 8,
   "metadata": {},
   "outputs": [],
   "source": [
    "tubeMaskImage = vSeg.GetTubeMaskImage()\n",
    "itk.imwrite(tubeMaskImage,OutputBaseName+\"-Vessels.mha\")"
   ]
  },
  {
   "cell_type": "code",
   "execution_count": 9,
   "metadata": {},
   "outputs": [],
   "source": [
    "SOWriter = itk.SpatialObjectWriter[3].New()\n",
    "SOWriter.SetInput(vSeg.GetTubeGroup())\n",
    "SOWriter.SetBinaryPoints(True)\n",
    "SOWriter.SetFileName(OutputBaseName+\"-Vessels.tre\")\n",
    "SOWriter.Update()"
   ]
  },
  {
   "cell_type": "code",
   "execution_count": 10,
   "metadata": {},
   "outputs": [],
   "source": [
    "# smooth tubes!\n",
    "TubeMath = tube.TubeMath[3, itk.F].New()\n",
    "TubeMath.SetInputTubeGroup(vSeg.GetTubeGroup())\n",
    "TubeMath.SetUseAllTubes()\n",
    "TubeMath.SmoothTube(4,\"SMOOTH_TUBE_USING_INDEX_GAUSSIAN\")\n",
    "TubeMath.SmoothTubeProperty(\"Radius\",2,\"SMOOTH_TUBE_USING_INDEX_GAUSSIAN\")\n",
    "tubes = TubeMath.GetOutputTubeGroup()"
   ]
  },
  {
   "cell_type": "code",
   "execution_count": 11,
   "metadata": {},
   "outputs": [],
   "source": [
    "ConvSurface = tube.WriteTubesAsPolyData.New()\n",
    "ConvSurface.SetInput(tubes)\n",
    "ConvSurface.SetFileName(OutputBaseName+\"-Vessels.vtp\")\n",
    "ConvSurface.Update()"
   ]
  },
  {
   "cell_type": "code",
   "execution_count": null,
   "metadata": {},
   "outputs": [],
   "source": []
  },
  {
   "cell_type": "code",
   "execution_count": null,
   "metadata": {},
   "outputs": [],
   "source": []
  }
 ],
 "metadata": {
  "kernelspec": {
   "display_name": "Python 3 (ipykernel)",
   "language": "python",
   "name": "python3"
  },
  "language_info": {
   "codemirror_mode": {
    "name": "ipython",
    "version": 3
   },
   "file_extension": ".py",
   "mimetype": "text/x-python",
   "name": "python",
   "nbconvert_exporter": "python",
   "pygments_lexer": "ipython3",
   "version": "3.8.10"
  }
 },
 "nbformat": 4,
 "nbformat_minor": 4
}
