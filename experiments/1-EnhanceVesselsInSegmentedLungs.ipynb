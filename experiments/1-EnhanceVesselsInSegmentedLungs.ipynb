{
 "cells": [
  {
   "cell_type": "code",
   "execution_count": 1,
   "metadata": {},
   "outputs": [],
   "source": [
    "import itk\n",
    "from itk import TubeTK as tube\n",
    "\n",
    "import numpy as np"
   ]
  },
  {
   "cell_type": "code",
   "execution_count": 2,
   "metadata": {},
   "outputs": [],
   "source": [
    "InputBaseName = \"../data/CT/CT\"\n",
    "OutputBaseName = \"results/CT-Lungs\"\n",
    "\n",
    "InputFilename = OutputBaseName+\".mha\"\n",
    "\n",
    "imLungs = itk.imread(InputFilename, itk.F)"
   ]
  },
  {
   "cell_type": "code",
   "execution_count": 3,
   "metadata": {
    "scrolled": true
   },
   "outputs": [
    {
     "name": "stderr",
     "output_type": "stream",
     "text": [
      "itkImageF4 not loaded from module TubeTK because of exception:\n",
      " module 'itk.TubeTKPython' has no attribute 'itkImageF4'\n",
      "vectoritkImageF4 not loaded from module TubeTK because of exception:\n",
      " module 'itk.TubeTKPython' has no attribute 'vectoritkImageF4'\n"
     ]
    },
    {
     "name": "stdout",
     "output_type": "stream",
     "text": [
      "[[  56.88750452 -136.45000285   65.59679794]\n",
      " [ -64.3656224  -130.42500275  157.4780494 ]\n",
      " [  57.64062953 -156.78437817   77.64679813]\n",
      " [  65.17187965 -173.35312843   71.62179804]\n",
      " [  71.19687974 -143.98125297   48.27492267]\n",
      " [ -41.77187204 -156.78437817   54.29992276]\n",
      " [  40.31875426 -201.21875387  160.49054945]\n",
      " [ -68.13124746 -149.25312805   49.78117269]\n",
      " [ -90.72499782 -207.24375397   69.362423  ]\n",
      " [ -74.15624756 -193.68750376   79.90617317]\n",
      " [ -73.40312254 -125.90625268   37.7311725 ]\n",
      " [  82.49375492 -162.05625325   65.59679794]\n",
      " [ -93.73749787 -152.2656281    68.60929799]\n",
      " [ -75.66249758 -156.78437817  151.4530493 ]\n",
      " [ -52.31562221 -130.42500275   38.48429751]]\n"
     ]
    }
   ],
   "source": [
    "ImageType = itk.Image[itk.F, 3]\n",
    "\n",
    "spacing = imLungs.GetSpacing()[0]\n",
    "\n",
    "# Erode imLungs to avoid noise at edges\n",
    "imMath = tube.ImageMath.New(imLungs)\n",
    "imMath.Threshold(-1025,-1025,0,1)\n",
    "imMath.Erode(10,1,0)\n",
    "imLungsMaskErode = imMath.GetOutput()\n",
    "imMath.SetInput(imLungs)\n",
    "imMath.IntensityWindow(-100,2048,0,1)\n",
    "imMath.ReplaceValuesOutsideMaskRange(imLungsMaskErode,0.5,1.5,0)\n",
    "imLungsErode = imMath.GetOutput()\n",
    "\n",
    "imMath.SetInput(imLungsErode)\n",
    "imMath.Blur(4*spacing)\n",
    "imBlurBig = imMath.GetOutput()\n",
    "imMath.SetInput(imLungs)\n",
    "imMath.Blur(0.5*spacing)\n",
    "imMath.AddImages(imBlurBig, 1, -1)\n",
    "imDoG = imMath.GetOutput()\n",
    "\n",
    "imDoGArray = itk.GetArrayFromImage(imDoG)\n",
    "\n",
    "numSeeds = 15\n",
    "seedCoverage = 20\n",
    "seedCoord = np.zeros([numSeeds,3])\n",
    "for i in range(numSeeds):\n",
    "    seedCoord[i] = np.unravel_index(np.argmax(imDoGArray, axis=None), imDoGArray.shape)\n",
    "    indx = [int(seedCoord[i][0]),int(seedCoord[i][1]),int(seedCoord[i][2])]\n",
    "    minX = max(indx[0]-seedCoverage,0)\n",
    "    maxX = min(indx[0]+seedCoverage,imDoGArray.shape[0])\n",
    "    minY = max(indx[1]-seedCoverage,0)\n",
    "    maxY = min(indx[1]+seedCoverage,imDoGArray.shape[1])\n",
    "    minZ = max(indx[2]-seedCoverage,0)\n",
    "    maxZ = min(indx[2]+seedCoverage,imDoGArray.shape[2])\n",
    "    imDoGArray[minX:maxX,minY:maxY,minZ:maxZ]=-1024\n",
    "    indx.reverse()\n",
    "    seedCoord[:][i] = imLungs.TransformIndexToPhysicalPoint(indx)\n",
    "print(seedCoord)"
   ]
  },
  {
   "cell_type": "code",
   "execution_count": 4,
   "metadata": {},
   "outputs": [
    {
     "name": "stdout",
     "output_type": "stream",
     "text": [
      "**** Processing seed 0 : [  56.88750452 -136.45000285   65.59679794]\n",
      "**** Processing seed 1 : [ -64.3656224  -130.42500275  157.4780494 ]\n",
      "**** Processing seed 2 : [  57.64062953 -156.78437817   77.64679813]\n",
      "**** Processing seed 3 : [  65.17187965 -173.35312843   71.62179804]\n",
      "**** Processing seed 4 : [  71.19687974 -143.98125297   48.27492267]\n",
      "**** Processing seed 5 : [ -41.77187204 -156.78437817   54.29992276]\n",
      "**** Processing seed 6 : [  40.31875426 -201.21875387  160.49054945]\n",
      "**** Processing seed 7 : [ -68.13124746 -149.25312805   49.78117269]\n",
      "**** Processing seed 8 : [ -90.72499782 -207.24375397   69.362423  ]\n",
      "**** Processing seed 9 : [ -74.15624756 -193.68750376   79.90617317]\n",
      "**** Processing seed 10 : [ -73.40312254 -125.90625268   37.7311725 ]\n",
      "**** Processing seed 11 : [  82.49375492 -162.05625325   65.59679794]\n",
      "**** Processing seed 12 : [ -93.73749787 -152.2656281    68.60929799]\n",
      "**** Processing seed 13 : [ -75.66249758 -156.78437817  151.4530493 ]\n",
      "**** Processing seed 14 : [ -52.31562221 -130.42500275   38.48429751]\n"
     ]
    }
   ],
   "source": [
    "# Manually extract a few vessels to form an image-specific training set\n",
    "vSeg = tube.SegmentTubes.New(Input=imLungs)\n",
    "vSeg.SetVerbose(True)\n",
    "vSeg.SetMinRoundness(0.4)\n",
    "vSeg.SetMinRidgeness(0.8)\n",
    "#vSeg.SetMinCurvature(0.02)\n",
    "vSeg.SetRadiusInObjectSpace( 0.5 )\n",
    "vSeg.SetMinLength(300)\n",
    "for i in range(numSeeds):\n",
    "    print(\"**** Processing seed \" + str(i) + \" : \" + str(seedCoord[i]))\n",
    "    vSeg.ExtractTubeInObjectSpace( seedCoord[i], i )\n",
    "    \n",
    "tubeMaskImage = vSeg.GetTubeMaskImage()"
   ]
  },
  {
   "cell_type": "code",
   "execution_count": 5,
   "metadata": {},
   "outputs": [],
   "source": [
    "itk.imwrite(tubeMaskImage, OutputBaseName+\"-VesselsInitial.mha\")"
   ]
  },
  {
   "cell_type": "code",
   "execution_count": 6,
   "metadata": {},
   "outputs": [],
   "source": [
    "LabelMapType = itk.Image[itk.UC,3]\n",
    "\n",
    "trMask = tube.ComputeTrainingMask[ImageType,LabelMapType].New()\n",
    "trMask.SetInput( tubeMaskImage )\n",
    "trMask.SetGap( 3 )\n",
    "trMask.SetObjectWidth( 1 )\n",
    "trMask.SetNotObjectWidth( 1 )\n",
    "trMask.Update()\n",
    "fgMask = trMask.GetOutput()"
   ]
  },
  {
   "cell_type": "code",
   "execution_count": 7,
   "metadata": {},
   "outputs": [],
   "source": [
    "itk.imwrite(fgMask, OutputBaseName+\"-VesselsInitialMask.mha\")"
   ]
  },
  {
   "cell_type": "code",
   "execution_count": null,
   "metadata": {},
   "outputs": [],
   "source": [
    "enhancer = tube.EnhanceTubesUsingDiscriminantAnalysis[ImageType,LabelMapType].New()\n",
    "enhancer.AddInput(imLungs)\n",
    "enhancer.SetLabelMap(fgMask)\n",
    "enhancer.SetRidgeId(255)\n",
    "enhancer.SetBackgroundId(128)\n",
    "enhancer.SetUnknownId(0)\n",
    "enhancer.SetTrainClassifier(True)\n",
    "enhancer.SetUseIntensityOnly(True)\n",
    "enhancer.SetUseFeatureMath(True)\n",
    "enhancer.SetScales([1*spacing,2*spacing,6*spacing]) #(size*0.5,size*1.5,size*3.5,size*5.5)\n",
    "enhancer.Update()\n",
    "enhancer.ClassifyImages()"
   ]
  },
  {
   "cell_type": "code",
   "execution_count": null,
   "metadata": {},
   "outputs": [],
   "source": [
    "imMath.SetInput(enhancer.GetClassProbabilityImage(0))\n",
    "imMath.Blur(0.5*spacing)\n",
    "prob0 = imMath.GetOutput()\n",
    "imMath.SetInput(enhancer.GetClassProbabilityImage(1))\n",
    "imMath.Blur(0.5*spacing)\n",
    "prob1 = imMath.GetOutput()\n",
    "\n",
    "imMath.SetInput(imLungs)\n",
    "imMath.Threshold(-1025,-1025,0,1)\n",
    "imMath.Erode(2,1,0)\n",
    "imLungsE = imMath.GetOutput()\n",
    "\n",
    "imMath.SetInput(prob0)\n",
    "imMath.ReplaceValuesOutsideMaskRange(imLungsE,1,1,0)\n",
    "prob0 = imMath.GetOutput()\n",
    "\n",
    "imMath.SetInput(prob1)\n",
    "imMath.ReplaceValuesOutsideMaskRange(imLungsE,1,1,0)\n",
    "prob1 = imMath.GetOutput()\n",
    "\n",
    "imDiff = itk.SubtractImageFilter(Input1=prob0, Input2=prob1)\n",
    "imDiffArr = itk.GetArrayFromImage(imDiff)\n",
    "dMax = imDiffArr.max()\n",
    "imProbArr = imDiffArr / dMax\n",
    "imLungsVess = itk.GetImageFromArray(imProbArr)\n",
    "imLungsVess.CopyInformation(imLungs)\n",
    "\n",
    "imMath.SetInput(imLungsVess)\n",
    "imMath.ReplaceValuesOutsideMaskRange(imLungsE,1,1,-1)\n",
    "imLungsVess = imMath.GetOutput()\n"
   ]
  },
  {
   "cell_type": "code",
   "execution_count": null,
   "metadata": {},
   "outputs": [],
   "source": [
    "itk.imwrite( imLungsVess, OutputBaseName+\"-VesselsEnhanced.mha\", compression=True)"
   ]
  },
  {
   "cell_type": "code",
   "execution_count": null,
   "metadata": {},
   "outputs": [],
   "source": [
    "imMath.SetInput(imLungs)\n",
    "imMath.Threshold(-1025,-1025,0,1)\n",
    "imMath.Erode(8,1,0)\n",
    "imMaskedE = imMath.GetOutput()\n",
    "\n",
    "imMath.SetInput(imLungsVess)\n",
    "imMath.ReplaceValuesOutsideMaskRange(imMaskedE, 1, 1, -1)\n",
    "imVessMasked = imMath.GetOutput()"
   ]
  },
  {
   "cell_type": "code",
   "execution_count": null,
   "metadata": {},
   "outputs": [],
   "source": [
    "itk.imwrite( imVessMasked, OutputBaseName+\"-VesselsEnhanced-Masked.mha\", compression=True)"
   ]
  },
  {
   "cell_type": "code",
   "execution_count": null,
   "metadata": {},
   "outputs": [],
   "source": []
  }
 ],
 "metadata": {
  "kernelspec": {
   "display_name": "Python 3 (ipykernel)",
   "language": "python",
   "name": "python3"
  },
  "language_info": {
   "codemirror_mode": {
    "name": "ipython",
    "version": 3
   },
   "file_extension": ".py",
   "mimetype": "text/x-python",
   "name": "python",
   "nbconvert_exporter": "python",
   "pygments_lexer": "ipython3",
   "version": "3.8.10"
  },
  "widgets": {
   "application/vnd.jupyter.widget-state+json": {
    "state": {},
    "version_major": 2,
    "version_minor": 0
   }
  }
 },
 "nbformat": 4,
 "nbformat_minor": 4
}
