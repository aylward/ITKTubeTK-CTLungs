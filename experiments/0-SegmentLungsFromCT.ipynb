{
 "cells": [
  {
   "cell_type": "markdown",
   "metadata": {},
   "source": [
    "This notebook is intended to demonstrate how select registration, segmentation, and image mathematical methods of ITKTubeTK can be combined to perform lung segmentation from non-constrast CT.\n",
    "\n",
    "There are many other (probably more effective) lung extraction methods available as open-source software.  If you need to perform lung extraction for a large collection of scans that do not contain major pathologies, please use one of those packages.   This notebook is meant to show off the capabilities of specific ITKTubeTK methods, not to demonstration how to \"solve\" lung extraction."
   ]
  },
  {
   "cell_type": "code",
   "execution_count": 1,
   "metadata": {},
   "outputs": [],
   "source": [
    "import itk\n",
    "from itk import TubeTK as tube\n",
    "\n",
    "from itkwidgets import view\n",
    "\n",
    "import numpy as np\n",
    "import time"
   ]
  },
  {
   "cell_type": "code",
   "execution_count": 2,
   "metadata": {},
   "outputs": [],
   "source": [
    "ImageType = itk.Image[itk.F, 3]\n",
    "\n",
    "InputBaseName = \"../data/CT/CT\"\n",
    "OutputBaseName = \"results/CT\""
   ]
  },
  {
   "cell_type": "code",
   "execution_count": 3,
   "metadata": {},
   "outputs": [],
   "source": [
    "im = itk.imread(InputBaseName + \".mha\", itk.F)"
   ]
  },
  {
   "cell_type": "code",
   "execution_count": 4,
   "metadata": {},
   "outputs": [
    {
     "name": "stderr",
     "output_type": "stream",
     "text": [
      "itkImageF4 not loaded from module TubeTK because of exception:\n",
      " module 'itk.TubeTKPython' has no attribute 'itkImageF4'\n",
      "vectoritkImageF4 not loaded from module TubeTK because of exception:\n",
      " module 'itk.TubeTKPython' has no attribute 'vectoritkImageF4'\n"
     ]
    }
   ],
   "source": [
    "resamp = tube.ResampleImage[ImageType].New(Input = im)\n",
    "resamp.SetMakeIsotropic(True)\n",
    "resamp.Update()\n",
    "imIso = resamp.GetOutput()"
   ]
  },
  {
   "cell_type": "code",
   "execution_count": 5,
   "metadata": {},
   "outputs": [],
   "source": [
    "itk.imwrite(imIso, OutputBaseName + \"-Iso.mha\")"
   ]
  },
  {
   "cell_type": "code",
   "execution_count": 6,
   "metadata": {},
   "outputs": [],
   "source": [
    "ImageMath = tube.ImageMath.New(imIso)\n",
    "ImageMath.ConnectedComponents(-1024,-900,1,0,0,0)\n",
    "ImageMath.Dilate(10,1,0)\n",
    "ImageMath.Erode(20,1,0)\n",
    "ImageMath.Dilate(11,1,0)\n",
    "imBkgMask = ImageMath.GetOutput()"
   ]
  },
  {
   "cell_type": "code",
   "execution_count": 7,
   "metadata": {},
   "outputs": [],
   "source": [
    "itk.imwrite(imBkgMask, OutputBaseName+'-BkgMask.mha')"
   ]
  },
  {
   "cell_type": "code",
   "execution_count": 8,
   "metadata": {
    "scrolled": true
   },
   "outputs": [],
   "source": [
    "ImageMath.SetInput(imIso)\n",
    "ImageMath.ReplaceValuesOutsideMaskRange(imBkgMask,0,0,-1024)\n",
    "ImageMath.Threshold(-1023,-500,1,0)\n",
    "ImageMath.Dilate(5,1,0)\n",
    "ImageMath.Erode(10,1,0)\n",
    "ImageMath.Dilate(3,1,0)\n",
    "imLungPlusMask = ImageMath.GetOutputUChar()\n",
    "\n",
    "ConnComp = tube.SegmentConnectedComponents.New(imLungPlusMask)\n",
    "ConnComp.SetMinimumVolume(10000)\n",
    "ConnComp.Update()\n",
    "imLungMask = ConnComp.GetOutput()"
   ]
  },
  {
   "cell_type": "code",
   "execution_count": 9,
   "metadata": {},
   "outputs": [],
   "source": [
    "itk.imwrite(imLungMask, OutputBaseName+'-LungsMask.mha')"
   ]
  },
  {
   "cell_type": "code",
   "execution_count": 10,
   "metadata": {},
   "outputs": [],
   "source": [
    "imLungMask = itk.imread(OutputBaseName+'-LungsMask.mha', itk.F) # Read into float array\n",
    "ImageMath.SetInput(imIso)\n",
    "ImageMath.ReplaceValuesOutsideMaskRange(imLungMask,1,255,-1025)\n",
    "imLung = ImageMath.GetOutput()"
   ]
  },
  {
   "cell_type": "code",
   "execution_count": 11,
   "metadata": {},
   "outputs": [],
   "source": [
    "itk.imwrite(imLung, OutputBaseName+'-Lungs.mha')"
   ]
  },
  {
   "cell_type": "code",
   "execution_count": 12,
   "metadata": {},
   "outputs": [
    {
     "data": {
      "text/html": [
       "<div />"
      ],
      "text/plain": [
       "<IPython.core.display.HTML object>"
      ]
     },
     "metadata": {},
     "output_type": "display_data"
    },
    {
     "data": {
      "application/javascript": [
       "window.connectPlugin && window.connectPlugin(\"76e9c29f-945e-4671-b1de-73bad176e3e1\")"
      ],
      "text/plain": [
       "<IPython.core.display.Javascript object>"
      ]
     },
     "metadata": {},
     "output_type": "display_data"
    },
    {
     "data": {
      "text/html": [
       "<div id=\"e76c575b-ea1e-4e5a-a690-5704f208dbea\"></div>"
      ],
      "text/plain": [
       "<IPython.core.display.HTML object>"
      ]
     },
     "metadata": {},
     "output_type": "display_data"
    },
    {
     "data": {
      "text/plain": [
       "<itkwidgets.viewer.Viewer at 0x211d614fa90>"
      ]
     },
     "execution_count": 12,
     "metadata": {},
     "output_type": "execute_result"
    }
   ],
   "source": [
    "view(imLung)"
   ]
  },
  {
   "cell_type": "code",
   "execution_count": null,
   "metadata": {},
   "outputs": [],
   "source": []
  }
 ],
 "metadata": {
  "kernelspec": {
   "display_name": "Python 3 (ipykernel)",
   "language": "python",
   "name": "python3"
  },
  "language_info": {
   "codemirror_mode": {
    "name": "ipython",
    "version": 3
   },
   "file_extension": ".py",
   "mimetype": "text/x-python",
   "name": "python",
   "nbconvert_exporter": "python",
   "pygments_lexer": "ipython3",
   "version": "3.8.10"
  },
  "widgets": {
   "application/vnd.jupyter.widget-state+json": {
    "state": {},
    "version_major": 2,
    "version_minor": 0
   }
  }
 },
 "nbformat": 4,
 "nbformat_minor": 4
}
